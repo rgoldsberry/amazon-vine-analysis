{
 "cells": [
  {
   "cell_type": "code",
   "execution_count": 45,
   "metadata": {},
   "outputs": [],
   "source": [
    "# dependencies and file loading\n",
    "import pandas as pd\n",
    "\n",
    "sql_df = pd.read_csv(\"vine_reviews.csv\")"
   ]
  },
  {
   "cell_type": "code",
   "execution_count": 46,
   "metadata": {},
   "outputs": [],
   "source": [
    "# filtering data to rows with total_votes > 20\n",
    "\n",
    "votes_df = sql_df[sql_df[\"total_votes\"] >= 20]"
   ]
  },
  {
   "cell_type": "code",
   "execution_count": 47,
   "metadata": {},
   "outputs": [],
   "source": [
    "# filtering data to reviews that are at least 50% voted as helpful\n",
    "\n",
    "helpful_df = votes_df.where(votes_df[\"helpful_votes\"]/votes_df[\"total_votes\"] >= 0.5).dropna()"
   ]
  },
  {
   "cell_type": "code",
   "execution_count": 48,
   "metadata": {},
   "outputs": [],
   "source": [
    "# splitting the data into two DFs, one filled with vine program reviews, one with non-vine reviews\n",
    "paid_reviews = helpful_df[helpful_df[\"vine\"] == \"Y\"]\n",
    "unpaid_reviews = helpful_df[helpful_df[\"vine\"] == \"N\"]"
   ]
  },
  {
   "cell_type": "code",
   "execution_count": 49,
   "metadata": {},
   "outputs": [
    {
     "name": "stdout",
     "output_type": "stream",
     "text": [
      "There are a total of 386 paid reviews. 176 (45.6%) of those are 5 star reviews.\n"
     ]
    }
   ],
   "source": [
    "# total number of reviews, 5 star reviews, and percentage of 5-star reviews for vine program reviews\n",
    "paid_total = len(paid_reviews)\n",
    "paid_5_star = len(paid_reviews[paid_reviews[\"star_rating\"] == 5])\n",
    "paid_5_star_percent = paid_5_star/paid_total * 100\n",
    "\n",
    "print(f'There are a total of {paid_total} paid reviews. {paid_5_star} ({round(paid_5_star_percent, 2)}%) of those are 5 star reviews.')"
   ]
  },
  {
   "cell_type": "code",
   "execution_count": 50,
   "metadata": {},
   "outputs": [
    {
     "name": "stdout",
     "output_type": "stream",
     "text": [
      "There are a total of 48717 unpaid reviews. 24026 (49.32%) of those are 5 star reviews.\n"
     ]
    }
   ],
   "source": [
    "# total number of reviews, 5 star reviews, and percentage of 5-star reviews for non-vine program reviews\n",
    "unpaid_total = len(unpaid_reviews)\n",
    "unpaid_5_star = len(unpaid_reviews[unpaid_reviews[\"star_rating\"] == 5])\n",
    "unpaid_5_star_percent = unpaid_5_star/unpaid_total * 100\n",
    "\n",
    "print(f'There are a total of {unpaid_total} unpaid reviews. {unpaid_5_star} ({round(unpaid_5_star_percent, 2)}%) of those are 5 star reviews.')"
   ]
  }
 ],
 "metadata": {
  "kernelspec": {
   "display_name": "Python 3.9.12 ('base')",
   "language": "python",
   "name": "python3"
  },
  "language_info": {
   "codemirror_mode": {
    "name": "ipython",
    "version": 3
   },
   "file_extension": ".py",
   "mimetype": "text/x-python",
   "name": "python",
   "nbconvert_exporter": "python",
   "pygments_lexer": "ipython3",
   "version": "3.9.12"
  },
  "orig_nbformat": 4,
  "vscode": {
   "interpreter": {
    "hash": "06147384fab47baad5a7ca42bf3b76ad6897d937854adfc341b665c176fc89a2"
   }
  }
 },
 "nbformat": 4,
 "nbformat_minor": 2
}
